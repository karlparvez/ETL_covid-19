{
 "cells": [
  {
   "cell_type": "code",
   "execution_count": 1,
   "metadata": {},
   "outputs": [],
   "source": [
    "# Dependencies\n",
    "from bs4 import BeautifulSoup\n",
    "import requests\n",
    "import pandas as pd"
   ]
  },
  {
   "cell_type": "code",
   "execution_count": 2,
   "metadata": {},
   "outputs": [],
   "source": [
    "url = 'https://data.humdata.org/dataset/novel-coronavirus-2019-ncov-cases'\n",
    "\n",
    "response = requests.get(url)\n",
    "soup = BeautifulSoup(response.text, 'lxml')\n",
    "#print(soup.prettify())"
   ]
  },
  {
   "cell_type": "code",
   "execution_count": 3,
   "metadata": {},
   "outputs": [
    {
     "data": {
      "text/plain": [
       "[<a class=\"btn btn-empty btn-empty-blue hdx-btn resource-url-analytics ga-download\" href=\"https://raw.githubusercontent.com/CSSEGISandData/COVID-19/master/csse_covid_19_data/csse_covid_19_time_series/time_series_19-covid-Confirmed.csv\" title=\"Download\" tracking-type=\"api\">\n",
       " <img alt=\"Download\" src=\"/images/homepage/download.svg\"/>\n",
       "                   Download\n",
       "                   <span class=\"ga-download-resource-title\" style=\"display: none\">time_series_2019-ncov-Confirmed.csv</span>\n",
       " <span class=\"ga-download-resource-id\" style=\"display: none\">4cd2eaa1-fd3e-4371-a234-a8ef2b44cc1f</span>\n",
       " </a>,\n",
       " <a class=\"btn btn-empty btn-empty-blue hdx-btn resource-url-analytics ga-download\" href=\"https://raw.githubusercontent.com/CSSEGISandData/COVID-19/master/csse_covid_19_data/csse_covid_19_time_series/time_series_19-covid-Deaths.csv\" title=\"Download\" tracking-type=\"api\">\n",
       " <img alt=\"Download\" src=\"/images/homepage/download.svg\"/>\n",
       "                   Download\n",
       "                   <span class=\"ga-download-resource-title\" style=\"display: none\">time_series_2019-ncov-Deaths.csv</span>\n",
       " <span class=\"ga-download-resource-id\" style=\"display: none\">e148e813-7e41-49ff-bccc-847b57c9a887</span>\n",
       " </a>,\n",
       " <a class=\"btn btn-empty btn-empty-blue hdx-btn resource-url-analytics ga-download\" href=\"https://raw.githubusercontent.com/CSSEGISandData/COVID-19/master/csse_covid_19_data/csse_covid_19_time_series/time_series_19-covid-Recovered.csv\" title=\"Download\" tracking-type=\"api\">\n",
       " <img alt=\"Download\" src=\"/images/homepage/download.svg\"/>\n",
       "                   Download\n",
       "                   <span class=\"ga-download-resource-title\" style=\"display: none\">time_series_2019-ncov-Recovered.csv</span>\n",
       " <span class=\"ga-download-resource-id\" style=\"display: none\">d76bfc47-b190-4605-9600-f9e86134f02a</span>\n",
       " </a>]"
      ]
     },
     "execution_count": 3,
     "metadata": {},
     "output_type": "execute_result"
    }
   ],
   "source": [
    "scraped = soup.find_all('a', class_='resource-url-analytics')\n",
    "confirmed = scraped[0]['href']\n",
    "deaths = scraped[1]['href']\n",
    "recovered = scraped[2]['href']\n",
    "scraped"
   ]
  },
  {
   "cell_type": "code",
   "execution_count": null,
   "metadata": {},
   "outputs": [],
   "source": []
  },
  {
   "cell_type": "code",
   "execution_count": 4,
   "metadata": {
    "scrolled": true
   },
   "outputs": [
    {
     "ename": "NameError",
     "evalue": "name 'deaths_df' is not defined",
     "output_type": "error",
     "traceback": [
      "\u001b[1;31m---------------------------------------------------------------------------\u001b[0m",
      "\u001b[1;31mNameError\u001b[0m                                 Traceback (most recent call last)",
      "\u001b[1;32m<ipython-input-4-c126ff23f94a>\u001b[0m in \u001b[0;36m<module>\u001b[1;34m\u001b[0m\n\u001b[1;32m----> 1\u001b[1;33m \u001b[0mdeaths_df\u001b[0m\u001b[1;33m\u001b[0m\u001b[1;33m\u001b[0m\u001b[0m\n\u001b[0m",
      "\u001b[1;31mNameError\u001b[0m: name 'deaths_df' is not defined"
     ]
    }
   ],
   "source": [
    "deaths_df"
   ]
  },
  {
   "cell_type": "code",
   "execution_count": null,
   "metadata": {
    "scrolled": false
   },
   "outputs": [],
   "source": [
    "confirmed_df"
   ]
  },
  {
   "cell_type": "code",
   "execution_count": null,
   "metadata": {},
   "outputs": [],
   "source": [
    "deaths_df"
   ]
  },
  {
   "cell_type": "code",
   "execution_count": null,
   "metadata": {},
   "outputs": [],
   "source": [
    "recovered_df"
   ]
  },
  {
   "cell_type": "code",
   "execution_count": null,
   "metadata": {},
   "outputs": [],
   "source": []
  },
  {
   "cell_type": "code",
   "execution_count": null,
   "metadata": {},
   "outputs": [],
   "source": []
  }
 ],
 "metadata": {
  "kernelspec": {
   "display_name": "Python 3",
   "language": "python",
   "name": "python3"
  },
  "language_info": {
   "codemirror_mode": {
    "name": "ipython",
    "version": 3
   },
   "file_extension": ".py",
   "mimetype": "text/x-python",
   "name": "python",
   "nbconvert_exporter": "python",
   "pygments_lexer": "ipython3",
   "version": "3.7.4"
  }
 },
 "nbformat": 4,
 "nbformat_minor": 2
}
